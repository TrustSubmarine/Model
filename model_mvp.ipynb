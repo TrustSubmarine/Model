{
  "nbformat": 4,
  "nbformat_minor": 0,
  "metadata": {
    "colab": {
      "provenance": []
    },
    "kernelspec": {
      "name": "python3",
      "display_name": "Python 3"
    },
    "language_info": {
      "name": "python"
    }
  },
  "cells": [
    {
      "cell_type": "code",
      "source": [
        "import pandas as pd\n",
        "from sklearn import metrics"
      ],
      "metadata": {
        "id": "t6HW88ZqpA3D"
      },
      "execution_count": 4,
      "outputs": []
    },
    {
      "cell_type": "code",
      "source": [
        "def readPrintTSV(dir):\n",
        "  data = pd.read_csv(dir)\n",
        "  print(f\"imported {data.shape[0]} rows of {data.shape[1]} columns\")\n",
        "  print()\n",
        "  print(data[:5])\n",
        "  return data"
      ],
      "metadata": {
        "id": "j4pL5dW0ZeBq"
      },
      "execution_count": 5,
      "outputs": []
    },
    {
      "cell_type": "code",
      "source": [
        "salminen = readPrintTSV('Salminen Dataset.csv')"
      ],
      "metadata": {
        "colab": {
          "base_uri": "https://localhost:8080/"
        },
        "id": "GxH5eWEbZzvf",
        "outputId": "eae6e476-a126-4e0d-cfd3-482584221083"
      },
      "execution_count": 6,
      "outputs": [
        {
          "output_type": "stream",
          "name": "stdout",
          "text": [
            "imported 40432 rows of 4 columns\n",
            "\n",
            "             category  rating label  \\\n",
            "0  Home_and_Kitchen_5     5.0    CG   \n",
            "1  Home_and_Kitchen_5     5.0    CG   \n",
            "2  Home_and_Kitchen_5     5.0    CG   \n",
            "3  Home_and_Kitchen_5     1.0    CG   \n",
            "4  Home_and_Kitchen_5     5.0    CG   \n",
            "\n",
            "                                               text_  \n",
            "0  Love this!  Well made, sturdy, and very comfor...  \n",
            "1  love it, a great upgrade from the original.  I...  \n",
            "2  This pillow saved my back. I love the look and...  \n",
            "3  Missing information on how to use it, but it i...  \n",
            "4  Very nice set. Good quality. We have had the s...  \n"
          ]
        }
      ]
    },
    {
      "cell_type": "code",
      "source": [
        "def checkremovenull(data):\n",
        "  initialrows = data.shape[0]\n",
        "  droppedrows = data.dropna(inplace = True)\n",
        "  newrows = data.shape[0]\n",
        "  if newrows < initialrows:\n",
        "    print(f\"{initialrows - newrows} nulls removed\")\n",
        "  else:\n",
        "    print(\"no nulls detected\")\n",
        "  return droppedrows\n",
        "\n",
        "def checkremoveblankstr(data):\n",
        "  toDrop = []\n",
        "  for row in data.itertuples():\n",
        "    for entry in row:\n",
        "      if (type(entry) == str and entry.isspace()):\n",
        "        break\n",
        "    else:\n",
        "      continue\n",
        "    toDrop.append(entry[0]) #row number\n",
        "  if (len(toDrop) == 0):\n",
        "    print(\"no empty strings detected\")\n",
        "    return None\n",
        "  else:\n",
        "    print(f\"{len(toDrop)} rows with empty strings removed\")\n",
        "    return data.drop(toDrop, inplace = True)\n",
        "\n",
        "\n",
        "checkremovenull(salminen)\n",
        "checkremoveblankstr(salminen)"
      ],
      "metadata": {
        "colab": {
          "base_uri": "https://localhost:8080/"
        },
        "id": "E65mdkfoanpa",
        "outputId": "826e90cb-3374-43c5-b6a1-eba15c86f3e9"
      },
      "execution_count": 7,
      "outputs": [
        {
          "output_type": "stream",
          "name": "stdout",
          "text": [
            "no nulls detected\n",
            "no empty strings detected\n"
          ]
        }
      ]
    },
    {
      "cell_type": "code",
      "source": [
        "from sklearn.model_selection import train_test_split\n",
        "\n",
        "X = salminen['text_']\n",
        "y = salminen['label']\n",
        "\n",
        "X_train, X_test, y_train, y_test = train_test_split(X, y, test_size=0.33, random_state=0)"
      ],
      "metadata": {
        "id": "kg-68HqqlRcr"
      },
      "execution_count": 8,
      "outputs": []
    },
    {
      "cell_type": "code",
      "source": [
        "X_train[:10]"
      ],
      "metadata": {
        "colab": {
          "base_uri": "https://localhost:8080/"
        },
        "id": "d0MXxci9l50a",
        "outputId": "79d9faa6-709d-4e65-abad-5b99b2900f2a"
      },
      "execution_count": 9,
      "outputs": [
        {
          "output_type": "execute_result",
          "data": {
            "text/plain": [
              "16635    Worked fine.  Some post commented on foot peda...\n",
              "14695    This is a wonderfully insightful and thought p...\n",
              "29502    Im a firm believer in a workbook for every kid...\n",
              "38668    Wow, it really is thin and low profile. The mo...\n",
              "21585    Good for labs, beagles...all furr kiddos with ...\n",
              "30157    These novella add clarity and an additional la...\n",
              "4615     Great water bottle.. Although the cap is cheap...\n",
              "69       My hot cocoa is finally perfect! This product ...\n",
              "4807     It's perfect, covers my beach time perfectly, ...\n",
              "21445    For the price, this hutch is excellent. Not su...\n",
              "Name: text_, dtype: object"
            ]
          },
          "metadata": {},
          "execution_count": 9
        }
      ]
    },
    {
      "cell_type": "code",
      "execution_count": 10,
      "metadata": {
        "id": "ZIrN5evZZXvq"
      },
      "outputs": [],
      "source": [
        "from sklearn.pipeline import Pipeline\n",
        "from sklearn.feature_extraction.text import TfidfVectorizer\n",
        "from sklearn.svm import LinearSVC\n",
        "\n",
        "model = Pipeline([ ('vectorizer', TfidfVectorizer()), ('classifier', LinearSVC()), ])"
      ]
    },
    {
      "cell_type": "code",
      "source": [
        "model.fit(X_train, y_train)"
      ],
      "metadata": {
        "colab": {
          "base_uri": "https://localhost:8080/",
          "height": 126
        },
        "id": "bgnkVY3XmNrp",
        "outputId": "afbe39c6-92b2-46ab-95ac-2455314fb59f"
      },
      "execution_count": 11,
      "outputs": [
        {
          "output_type": "execute_result",
          "data": {
            "text/plain": [
              "Pipeline(steps=[('vectorizer', TfidfVectorizer()), ('classifier', LinearSVC())])"
            ],
            "text/html": [
              "<style>#sk-container-id-1 {color: black;background-color: white;}#sk-container-id-1 pre{padding: 0;}#sk-container-id-1 div.sk-toggleable {background-color: white;}#sk-container-id-1 label.sk-toggleable__label {cursor: pointer;display: block;width: 100%;margin-bottom: 0;padding: 0.3em;box-sizing: border-box;text-align: center;}#sk-container-id-1 label.sk-toggleable__label-arrow:before {content: \"▸\";float: left;margin-right: 0.25em;color: #696969;}#sk-container-id-1 label.sk-toggleable__label-arrow:hover:before {color: black;}#sk-container-id-1 div.sk-estimator:hover label.sk-toggleable__label-arrow:before {color: black;}#sk-container-id-1 div.sk-toggleable__content {max-height: 0;max-width: 0;overflow: hidden;text-align: left;background-color: #f0f8ff;}#sk-container-id-1 div.sk-toggleable__content pre {margin: 0.2em;color: black;border-radius: 0.25em;background-color: #f0f8ff;}#sk-container-id-1 input.sk-toggleable__control:checked~div.sk-toggleable__content {max-height: 200px;max-width: 100%;overflow: auto;}#sk-container-id-1 input.sk-toggleable__control:checked~label.sk-toggleable__label-arrow:before {content: \"▾\";}#sk-container-id-1 div.sk-estimator input.sk-toggleable__control:checked~label.sk-toggleable__label {background-color: #d4ebff;}#sk-container-id-1 div.sk-label input.sk-toggleable__control:checked~label.sk-toggleable__label {background-color: #d4ebff;}#sk-container-id-1 input.sk-hidden--visually {border: 0;clip: rect(1px 1px 1px 1px);clip: rect(1px, 1px, 1px, 1px);height: 1px;margin: -1px;overflow: hidden;padding: 0;position: absolute;width: 1px;}#sk-container-id-1 div.sk-estimator {font-family: monospace;background-color: #f0f8ff;border: 1px dotted black;border-radius: 0.25em;box-sizing: border-box;margin-bottom: 0.5em;}#sk-container-id-1 div.sk-estimator:hover {background-color: #d4ebff;}#sk-container-id-1 div.sk-parallel-item::after {content: \"\";width: 100%;border-bottom: 1px solid gray;flex-grow: 1;}#sk-container-id-1 div.sk-label:hover label.sk-toggleable__label {background-color: #d4ebff;}#sk-container-id-1 div.sk-serial::before {content: \"\";position: absolute;border-left: 1px solid gray;box-sizing: border-box;top: 0;bottom: 0;left: 50%;z-index: 0;}#sk-container-id-1 div.sk-serial {display: flex;flex-direction: column;align-items: center;background-color: white;padding-right: 0.2em;padding-left: 0.2em;position: relative;}#sk-container-id-1 div.sk-item {position: relative;z-index: 1;}#sk-container-id-1 div.sk-parallel {display: flex;align-items: stretch;justify-content: center;background-color: white;position: relative;}#sk-container-id-1 div.sk-item::before, #sk-container-id-1 div.sk-parallel-item::before {content: \"\";position: absolute;border-left: 1px solid gray;box-sizing: border-box;top: 0;bottom: 0;left: 50%;z-index: -1;}#sk-container-id-1 div.sk-parallel-item {display: flex;flex-direction: column;z-index: 1;position: relative;background-color: white;}#sk-container-id-1 div.sk-parallel-item:first-child::after {align-self: flex-end;width: 50%;}#sk-container-id-1 div.sk-parallel-item:last-child::after {align-self: flex-start;width: 50%;}#sk-container-id-1 div.sk-parallel-item:only-child::after {width: 0;}#sk-container-id-1 div.sk-dashed-wrapped {border: 1px dashed gray;margin: 0 0.4em 0.5em 0.4em;box-sizing: border-box;padding-bottom: 0.4em;background-color: white;}#sk-container-id-1 div.sk-label label {font-family: monospace;font-weight: bold;display: inline-block;line-height: 1.2em;}#sk-container-id-1 div.sk-label-container {text-align: center;}#sk-container-id-1 div.sk-container {/* jupyter's `normalize.less` sets `[hidden] { display: none; }` but bootstrap.min.css set `[hidden] { display: none !important; }` so we also need the `!important` here to be able to override the default hidden behavior on the sphinx rendered scikit-learn.org. See: https://github.com/scikit-learn/scikit-learn/issues/21755 */display: inline-block !important;position: relative;}#sk-container-id-1 div.sk-text-repr-fallback {display: none;}</style><div id=\"sk-container-id-1\" class=\"sk-top-container\"><div class=\"sk-text-repr-fallback\"><pre>Pipeline(steps=[(&#x27;vectorizer&#x27;, TfidfVectorizer()), (&#x27;classifier&#x27;, LinearSVC())])</pre><b>In a Jupyter environment, please rerun this cell to show the HTML representation or trust the notebook. <br />On GitHub, the HTML representation is unable to render, please try loading this page with nbviewer.org.</b></div><div class=\"sk-container\" hidden><div class=\"sk-item sk-dashed-wrapped\"><div class=\"sk-label-container\"><div class=\"sk-label sk-toggleable\"><input class=\"sk-toggleable__control sk-hidden--visually\" id=\"sk-estimator-id-1\" type=\"checkbox\" ><label for=\"sk-estimator-id-1\" class=\"sk-toggleable__label sk-toggleable__label-arrow\">Pipeline</label><div class=\"sk-toggleable__content\"><pre>Pipeline(steps=[(&#x27;vectorizer&#x27;, TfidfVectorizer()), (&#x27;classifier&#x27;, LinearSVC())])</pre></div></div></div><div class=\"sk-serial\"><div class=\"sk-item\"><div class=\"sk-estimator sk-toggleable\"><input class=\"sk-toggleable__control sk-hidden--visually\" id=\"sk-estimator-id-2\" type=\"checkbox\" ><label for=\"sk-estimator-id-2\" class=\"sk-toggleable__label sk-toggleable__label-arrow\">TfidfVectorizer</label><div class=\"sk-toggleable__content\"><pre>TfidfVectorizer()</pre></div></div></div><div class=\"sk-item\"><div class=\"sk-estimator sk-toggleable\"><input class=\"sk-toggleable__control sk-hidden--visually\" id=\"sk-estimator-id-3\" type=\"checkbox\" ><label for=\"sk-estimator-id-3\" class=\"sk-toggleable__label sk-toggleable__label-arrow\">LinearSVC</label><div class=\"sk-toggleable__content\"><pre>LinearSVC()</pre></div></div></div></div></div></div></div>"
            ]
          },
          "metadata": {},
          "execution_count": 11
        }
      ]
    },
    {
      "cell_type": "code",
      "source": [
        "#saving model\n",
        "import joblib\n",
        "joblib.dump(model, 'model.pkl')"
      ],
      "metadata": {
        "colab": {
          "base_uri": "https://localhost:8080/"
        },
        "id": "2evE-zhEP5L7",
        "outputId": "ff450bff-10d6-48c9-b9cc-75a8188f9bfa"
      },
      "execution_count": 12,
      "outputs": [
        {
          "output_type": "execute_result",
          "data": {
            "text/plain": [
              "['model.pkl']"
            ]
          },
          "metadata": {},
          "execution_count": 12
        }
      ]
    },
    {
      "cell_type": "markdown",
      "source": [
        "# Model Loading and Running\n",
        "\n",
        "Use constructor to pass relative directory. Put a Pandas Dataframe into `predict` (or just treat the object as a function) to get a Pandas Series of predictions.\n",
        "\n",
        "Model only accepts a 1 dimensional input of just review text."
      ],
      "metadata": {
        "id": "ict37pr3ZUdm"
      }
    },
    {
      "cell_type": "code",
      "source": [
        "import joblib\n",
        "class Model:\n",
        "\n",
        "  def __init__(self, dir):\n",
        "    self.model = joblib.load(dir)\n",
        "\n",
        "  def __call__(self, inputs):\n",
        "    return self.model.predict(inputs)\n",
        "\n",
        "  def predict(self, inputs):\n",
        "    return self(inputs)"
      ],
      "metadata": {
        "id": "YU7KwUKnUWSo"
      },
      "execution_count": 13,
      "outputs": []
    },
    {
      "cell_type": "code",
      "source": [
        "print(metrics.classification_report(salminen['label'], Model('model.pkl')(salminen['text_'])))"
      ],
      "metadata": {
        "id": "L6sOeH7XnvUY",
        "colab": {
          "base_uri": "https://localhost:8080/"
        },
        "outputId": "329245cb-88d3-4a77-ea24-06e275076828"
      },
      "execution_count": 14,
      "outputs": [
        {
          "output_type": "stream",
          "name": "stdout",
          "text": [
            "              precision    recall  f1-score   support\n",
            "\n",
            "          CG       0.95      0.95      0.95     20216\n",
            "          OR       0.95      0.95      0.95     20216\n",
            "\n",
            "    accuracy                           0.95     40432\n",
            "   macro avg       0.95      0.95      0.95     40432\n",
            "weighted avg       0.95      0.95      0.95     40432\n",
            "\n"
          ]
        }
      ]
    },
    {
      "cell_type": "code",
      "source": [
        "model = Model('model.pkl')\n",
        "outputs = model(X_test)\n",
        "print(metrics.confusion_matrix(y_test,outputs))\n",
        "print(metrics.classification_report(y_test,outputs))"
      ],
      "metadata": {
        "colab": {
          "base_uri": "https://localhost:8080/"
        },
        "id": "rM7Ksfa4o5hD",
        "outputId": "68bbf2ed-9ef0-4650-9e99-7e01bfdd3a83"
      },
      "execution_count": 15,
      "outputs": [
        {
          "output_type": "stream",
          "name": "stdout",
          "text": [
            "[[6082  621]\n",
            " [ 640 6000]]\n",
            "              precision    recall  f1-score   support\n",
            "\n",
            "          CG       0.90      0.91      0.91      6703\n",
            "          OR       0.91      0.90      0.90      6640\n",
            "\n",
            "    accuracy                           0.91     13343\n",
            "   macro avg       0.91      0.91      0.91     13343\n",
            "weighted avg       0.91      0.91      0.91     13343\n",
            "\n"
          ]
        }
      ]
    }
  ]
}